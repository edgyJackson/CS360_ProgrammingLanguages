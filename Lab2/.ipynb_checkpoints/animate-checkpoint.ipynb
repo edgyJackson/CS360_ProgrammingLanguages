{
 "cells": [
  {
   "cell_type": "code",
   "execution_count": 5,
   "metadata": {},
   "outputs": [],
   "source": [
    "sdl = \"\"\"#include \"colors.inc\"\n",
    "        #include \"textures.inc\"\n",
    "\n",
    "camera { \n",
    "\n",
    "    perspective \n",
    "    location <-2,0,-12>  \n",
    "    look_at <0,1.5,0>    \n",
    "    \n",
    "    }\n",
    "\n",
    "\n",
    " plane\n",
    "    {\n",
    "    <0, 1, 0>, -2\n",
    "     texture {\n",
    "      pigment {\n",
    "        DMFWood4       // pre-defined in textures.inc\n",
    "        scale 10        // scale by the same amount in all\n",
    "   } \n",
    "   \n",
    "   \n",
    "    normal { dents .75 scale .25 }\n",
    "    }\n",
    "    \n",
    "}\"\"\""
   ]
  },
  {
   "cell_type": "code",
   "execution_count": 22,
   "metadata": {},
   "outputs": [
    {
     "name": "stdout",
     "output_type": "stream",
     "text": [
      "<2.5,0,5.3>\n",
      "#include \"colors.inc\" #include \"textures.inc\"\n",
      "\n",
      "camera { \n",
      "\n",
      "    perspective \n",
      "    location <2.5,0,5.3>  \n",
      "    look_at <0,1.5,0>    \n",
      "    \n",
      "    }\n",
      "\n",
      "\n",
      " plane\n",
      "    {\n",
      "    <0, 1, 0>, -2\n",
      "     texture {\n",
      "      pigment {\n",
      "        DMFWood4       // pre-defined in textures.inc\n",
      "        scale 10        // scale by the same amount in all\n",
      "   } \n",
      "   \n",
      "   \n",
      "    normal { dents .75 scale .25 }\n",
      "    }\n",
      "    \n",
      "}\n"
     ]
    }
   ],
   "source": [
    "import re\n",
    "\n",
    "\n",
    "xCoordinate = 2.5\n",
    "yCoordinate =5.3\n",
    "newLocation = \"<\" + str(xCoordinate) + \",0,\" + str(yCoordinate) + \">\"\n",
    "\n",
    "print(newLocation)\n",
    "sdl = re.sub(\"<.+>\", newLocation, sdl, 1)\n",
    "\n",
    "print(sdl)\n"
   ]
  },
  {
   "cell_type": "code",
   "execution_count": null,
   "metadata": {},
   "outputs": [],
   "source": [
    "def flexible(x,y,*args,**kwargs):\n",
    "    print x\n",
    "    print y\n",
    "    print args\n",
    "    print kwargs"
   ]
  },
  {
   "cell_type": "code",
   "execution_count": null,
   "metadata": {},
   "outputs": [],
   "source": [
    "def doSomething():\n",
    "    a = 5\n",
    "    print a\n",
    "    def doubleIt(x):\n",
    "        return 2*x\n",
    "    print doubleIt(a)\n",
    "\n",
    "doSomething()\n",
    "#doubleIt(10)"
   ]
  },
  {
   "cell_type": "code",
   "execution_count": 3,
   "metadata": {
    "scrolled": true
   },
   "outputs": [
    {
     "ename": "NameError",
     "evalue": "name 'yCoordinate' is not defined",
     "output_type": "error",
     "traceback": [
      "\u001b[1;31m---------------------------------------------------------------------------\u001b[0m",
      "\u001b[1;31mNameError\u001b[0m                                 Traceback (most recent call last)",
      "\u001b[1;32m<ipython-input-3-28313459c94f>\u001b[0m in \u001b[0;36m<module>\u001b[1;34m\u001b[0m\n\u001b[0;32m     10\u001b[0m \u001b[0mzCoordinate\u001b[0m\u001b[1;33m=\u001b[0m   \u001b[0mradius\u001b[0m \u001b[1;33m*\u001b[0m \u001b[0mround\u001b[0m\u001b[1;33m(\u001b[0m\u001b[0mmath\u001b[0m\u001b[1;33m.\u001b[0m\u001b[0msin\u001b[0m\u001b[1;33m(\u001b[0m\u001b[0mtheta\u001b[0m\u001b[1;33m)\u001b[0m\u001b[1;33m,\u001b[0m\u001b[1;36m2\u001b[0m\u001b[1;33m)\u001b[0m\u001b[1;33m\u001b[0m\u001b[1;33m\u001b[0m\u001b[0m\n\u001b[0;32m     11\u001b[0m \u001b[1;33m\u001b[0m\u001b[0m\n\u001b[1;32m---> 12\u001b[1;33m \u001b[0mnewLocation\u001b[0m \u001b[1;33m=\u001b[0m \u001b[1;34m'<{0},{1},{2}>'\u001b[0m\u001b[1;33m.\u001b[0m\u001b[0mformat\u001b[0m\u001b[1;33m(\u001b[0m\u001b[0mxCoordinate\u001b[0m\u001b[1;33m,\u001b[0m \u001b[0myCoordinate\u001b[0m\u001b[1;33m,\u001b[0m \u001b[0mzCoordinate\u001b[0m\u001b[1;33m)\u001b[0m\u001b[1;33m\u001b[0m\u001b[1;33m\u001b[0m\u001b[0m\n\u001b[0m\u001b[0;32m     13\u001b[0m \u001b[0mprint\u001b[0m\u001b[1;33m(\u001b[0m\u001b[0mxCoordinate\u001b[0m\u001b[1;33m)\u001b[0m\u001b[1;33m\u001b[0m\u001b[1;33m\u001b[0m\u001b[0m\n\u001b[0;32m     14\u001b[0m \u001b[0mprint\u001b[0m\u001b[1;33m(\u001b[0m\u001b[0mzCoordinate\u001b[0m\u001b[1;33m)\u001b[0m\u001b[1;33m\u001b[0m\u001b[1;33m\u001b[0m\u001b[0m\n",
      "\u001b[1;31mNameError\u001b[0m: name 'yCoordinate' is not defined"
     ]
    }
   ],
   "source": [
    "import math \n",
    "radius = 10\n",
    "theta = .2\n",
    "\n",
    "yCoordinate=   10\n",
    "\n",
    "\n",
    "\n",
    "xCoordinate=   radius * round(math.cos(theta),2)\n",
    "zCoordinate=   radius * round(math.sin(theta),2)\n",
    "\n",
    "newLocation = '<{0},{1},{2}>'.format(xCoordinate, yCoordinate, zCoordinate)\n",
    "print(xCoordinate)\n",
    "print(zCoordinate)\n",
    "\n"
   ]
  },
  {
   "cell_type": "code",
   "execution_count": null,
   "metadata": {},
   "outputs": [],
   "source": []
  }
 ],
 "metadata": {
  "kernelspec": {
   "display_name": "Python 3",
   "language": "python",
   "name": "python3"
  },
  "language_info": {
   "codemirror_mode": {
    "name": "ipython",
    "version": 3
   },
   "file_extension": ".py",
   "mimetype": "text/x-python",
   "name": "python",
   "nbconvert_exporter": "python",
   "pygments_lexer": "ipython3",
   "version": "3.7.1"
  }
 },
 "nbformat": 4,
 "nbformat_minor": 2
}
