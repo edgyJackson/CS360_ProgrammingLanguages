{
 "cells": [
  {
   "cell_type": "code",
   "execution_count": 62,
   "metadata": {},
   "outputs": [
    {
     "name": "stdout",
     "output_type": "stream",
     "text": [
      "sphere { <5,6,0> 2 pigment { Black } }\n",
      "sphere { <5,0,0> 2 pigment { Black } }\n"
     ]
    },
    {
     "data": {
      "text/plain": [
       "int"
      ]
     },
     "execution_count": 62,
     "metadata": {},
     "output_type": "execute_result"
    }
   ],
   "source": [
    "class sphere:\n",
    "    color = \"Black\"\n",
    "    def __init__(self, location = '<5,6,0>', diameter = 2):\n",
    "        self.location = location\n",
    "        self.diameter = diameter\n",
    "    \n",
    "    def __repr__(self):\n",
    "\n",
    "        return \"sphere {{ {0} {1} pigment {{ {2} }} }}\".format(self.location, self.diameter,self.color)\n",
    "    \n",
    "    \n",
    "    \n",
    "circle1 = sphere(\"<1,3,1>\",5)\n",
    "circle2 = sphere()\n",
    "newstring = circle1.__repr__()\n",
    "newstring = circle2.__repr__()\n",
    "print(newstring)\n",
    "print(newstring2)\n",
    "\n",
    "type(newstring)\n",
    "\n",
    "x=9\n",
    "\n",
    "type(x)\n",
    "\n",
    "              \n"
   ]
  },
  {
   "cell_type": "code",
   "execution_count": 67,
   "metadata": {},
   "outputs": [
    {
     "name": "stdout",
     "output_type": "stream",
     "text": [
      "birds are green. birds are red, birds are owls.\n"
     ]
    }
   ],
   "source": [
    "import re \n",
    "def replacenth(string, sub, wanted, n):\n",
    "    where = [m.start() for m in re.finditer(sub, string)][n-1]\n",
    "    before = string[:where]\n",
    "    after = string[where:]\n",
    "    after.replace(sub, wanted, 1)\n",
    "    newString = before + after\n",
    "    print(newString)\n",
    "    \n",
    "    \n",
    "    \n",
    "string = 'birds are green. birds are red, birds are owls.'\n",
    "\n",
    "replacenth(string, 'birds', 'owl', 2)"
   ]
  },
  {
   "cell_type": "code",
   "execution_count": 91,
   "metadata": {},
   "outputs": [
    {
     "name": "stdout",
     "output_type": "stream",
     "text": [
      "finish { diffuse .2 phong 0.3 }\n"
     ]
    }
   ],
   "source": [
    "def finishFunc(**kwargs):\n",
    "    \n",
    "    string = \"finish {\"\n",
    "    for key in kwargs:\n",
    "        string =  string + \" \" + str(key) + \" \" + str(kwargs[key])\n",
    "    string += '} }'\n",
    "    return string\n",
    "\n",
    "    \n",
    "mystr = finishFunc(diffuse=\".2\", phong=.3)\n",
    "\n",
    "print(mystr)"
   ]
  }
 ],
 "metadata": {
  "kernelspec": {
   "display_name": "Python 3",
   "language": "python",
   "name": "python3"
  },
  "language_info": {
   "codemirror_mode": {
    "name": "ipython",
    "version": 3
   },
   "file_extension": ".py",
   "mimetype": "text/x-python",
   "name": "python",
   "nbconvert_exporter": "python",
   "pygments_lexer": "ipython3",
   "version": "3.7.1"
  }
 },
 "nbformat": 4,
 "nbformat_minor": 2
}
