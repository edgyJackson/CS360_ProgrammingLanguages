{
 "cells": [
  {
   "cell_type": "code",
   "execution_count": 5,
   "metadata": {},
   "outputs": [],
   "source": [
    "sdl = \"\"\"#include \"colors.inc\"\n",
    "        #include \"textures.inc\"\n",
    "\n",
    "camera { \n",
    "\n",
    "    perspective \n",
    "    location <-2,0,-12>  \n",
    "    look_at <0,1.5,0>    \n",
    "    \n",
    "    }\n",
    "\n",
    "\n",
    " plane\n",
    "    {\n",
    "    <0, 1, 0>, -2\n",
    "     texture {\n",
    "      pigment {\n",
    "        DMFWood4       // pre-defined in textures.inc\n",
    "        scale 10        // scale by the same amount in all\n",
    "   } \n",
    "   \n",
    "   \n",
    "    normal { dents .75 scale .25 }\n",
    "    }\n",
    "    \n",
    "}\"\"\""
   ]
  },
  {
   "cell_type": "code",
   "execution_count": 22,
   "metadata": {},
   "outputs": [
    {
     "name": "stdout",
     "output_type": "stream",
     "text": [
      "<2.5,0,5.3>\n",
      "#include \"colors.inc\" #include \"textures.inc\"\n",
      "\n",
      "camera { \n",
      "\n",
      "    perspective \n",
      "    location <2.5,0,5.3>  \n",
      "    look_at <0,1.5,0>    \n",
      "    \n",
      "    }\n",
      "\n",
      "\n",
      " plane\n",
      "    {\n",
      "    <0, 1, 0>, -2\n",
      "     texture {\n",
      "      pigment {\n",
      "        DMFWood4       // pre-defined in textures.inc\n",
      "        scale 10        // scale by the same amount in all\n",
      "   } \n",
      "   \n",
      "   \n",
      "    normal { dents .75 scale .25 }\n",
      "    }\n",
      "    \n",
      "}\n"
     ]
    }
   ],
   "source": [
    "import re\n",
    "\n",
    "\n",
    "xCoordinate = 2.5\n",
    "yCoordinate =5.3\n",
    "newLocation = \"<\" + str(xCoordinate) + \",0,\" + str(yCoordinate) + \">\"\n",
    "\n",
    "print(newLocation)\n",
    "sdl = re.sub(\"<.+>\", newLocation, sdl, 1)\n",
    "\n",
    "print(sdl)\n"
   ]
  },
  {
   "cell_type": "code",
   "execution_count": null,
   "metadata": {},
   "outputs": [],
   "source": [
    "def flexible(x,y,*args,**kwargs):\n",
    "    print x\n",
    "    print y\n",
    "    print args\n",
    "    print kwargs"
   ]
  },
  {
   "cell_type": "code",
   "execution_count": null,
   "metadata": {},
   "outputs": [],
   "source": []
  }
 ],
 "metadata": {
  "kernelspec": {
   "display_name": "Python 3",
   "language": "python",
   "name": "python3"
  },
  "language_info": {
   "codemirror_mode": {
    "name": "ipython",
    "version": 3
   },
   "file_extension": ".py",
   "mimetype": "text/x-python",
   "name": "python",
   "nbconvert_exporter": "python",
   "pygments_lexer": "ipython3",
   "version": "3.7.1"
  }
 },
 "nbformat": 4,
 "nbformat_minor": 2
}
